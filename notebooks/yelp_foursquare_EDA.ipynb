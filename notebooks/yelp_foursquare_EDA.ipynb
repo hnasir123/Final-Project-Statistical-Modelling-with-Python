{
 "cells": [
  {
   "cell_type": "code",
   "execution_count": 71,
   "id": "60b9e09b-d68d-417f-a027-b8919222c102",
   "metadata": {},
   "outputs": [],
   "source": [
    "import pandas as pd\n",
    "import json\n",
    "import requests\n",
    "import os"
   ]
  },
  {
   "cell_type": "code",
   "execution_count": 72,
   "id": "2756c127-ab00-425d-8ac6-e36b5ec05d2f",
   "metadata": {},
   "outputs": [],
   "source": [
    "\n",
    "api_key_4sq = os.environ['$FOURSQUARE']"
   ]
  },
  {
   "cell_type": "markdown",
   "id": "76435f1e-4f3f-4481-94df-155b71a52bd6",
   "metadata": {},
   "source": [
    "### Reading data from city bikes from csv\n"
   ]
  },
  {
   "cell_type": "code",
   "execution_count": 73,
   "id": "ad368878-ab57-4f71-a84e-0f7ba206c6c9",
   "metadata": {},
   "outputs": [],
   "source": [
    "df_city_bikes_paris = pd.read_csv('df_city_bikes_paris.csv', index_col=[0])"
   ]
  },
  {
   "cell_type": "code",
   "execution_count": 74,
   "id": "ba1fc684-89cf-4760-a52e-8bc0d678321d",
   "metadata": {},
   "outputs": [
    {
     "data": {
      "text/html": [
       "<div>\n",
       "<style scoped>\n",
       "    .dataframe tbody tr th:only-of-type {\n",
       "        vertical-align: middle;\n",
       "    }\n",
       "\n",
       "    .dataframe tbody tr th {\n",
       "        vertical-align: top;\n",
       "    }\n",
       "\n",
       "    .dataframe thead th {\n",
       "        text-align: right;\n",
       "    }\n",
       "</style>\n",
       "<table border=\"1\" class=\"dataframe\">\n",
       "  <thead>\n",
       "    <tr style=\"text-align: right;\">\n",
       "      <th></th>\n",
       "      <th>latitude</th>\n",
       "      <th>longitude</th>\n",
       "      <th>Lat-Long</th>\n",
       "      <th>name</th>\n",
       "      <th>free_bikes</th>\n",
       "      <th>empty_slots</th>\n",
       "      <th>extra.uid</th>\n",
       "    </tr>\n",
       "  </thead>\n",
       "  <tbody>\n",
       "    <tr>\n",
       "      <th>0</th>\n",
       "      <td>48.865983</td>\n",
       "      <td>2.275725</td>\n",
       "      <td>48.865983,2.275725</td>\n",
       "      <td>Benjamin Godard - Victor Hugo</td>\n",
       "      <td>5</td>\n",
       "      <td>30</td>\n",
       "      <td>16107</td>\n",
       "    </tr>\n",
       "    <tr>\n",
       "      <th>1</th>\n",
       "      <td>48.853756</td>\n",
       "      <td>2.339096</td>\n",
       "      <td>48.85375581057431,2.3390958085656166</td>\n",
       "      <td>André Mazet - Saint-André des Arts</td>\n",
       "      <td>1</td>\n",
       "      <td>53</td>\n",
       "      <td>6015</td>\n",
       "    </tr>\n",
       "    <tr>\n",
       "      <th>2</th>\n",
       "      <td>48.867872</td>\n",
       "      <td>2.364898</td>\n",
       "      <td>48.867872484749,2.3648982158072</td>\n",
       "      <td>Faubourg Du Temple - Republique</td>\n",
       "      <td>6</td>\n",
       "      <td>27</td>\n",
       "      <td>11037</td>\n",
       "    </tr>\n",
       "    <tr>\n",
       "      <th>3</th>\n",
       "      <td>48.856452</td>\n",
       "      <td>2.334852</td>\n",
       "      <td>48.856451985395786,2.334851883351803</td>\n",
       "      <td>Beaux-Arts - Bonaparte</td>\n",
       "      <td>4</td>\n",
       "      <td>16</td>\n",
       "      <td>6021</td>\n",
       "    </tr>\n",
       "    <tr>\n",
       "      <th>4</th>\n",
       "      <td>48.879296</td>\n",
       "      <td>2.337360</td>\n",
       "      <td>48.87929591733507,2.3373600840568547</td>\n",
       "      <td>Toudouze - Clauzel</td>\n",
       "      <td>3</td>\n",
       "      <td>17</td>\n",
       "      <td>9020</td>\n",
       "    </tr>\n",
       "  </tbody>\n",
       "</table>\n",
       "</div>"
      ],
      "text/plain": [
       "    latitude  longitude                              Lat-Long  \\\n",
       "0  48.865983   2.275725                    48.865983,2.275725   \n",
       "1  48.853756   2.339096  48.85375581057431,2.3390958085656166   \n",
       "2  48.867872   2.364898       48.867872484749,2.3648982158072   \n",
       "3  48.856452   2.334852  48.856451985395786,2.334851883351803   \n",
       "4  48.879296   2.337360  48.87929591733507,2.3373600840568547   \n",
       "\n",
       "                                 name  free_bikes  empty_slots extra.uid  \n",
       "0       Benjamin Godard - Victor Hugo           5           30     16107  \n",
       "1  André Mazet - Saint-André des Arts           1           53      6015  \n",
       "2     Faubourg Du Temple - Republique           6           27     11037  \n",
       "3              Beaux-Arts - Bonaparte           4           16      6021  \n",
       "4                  Toudouze - Clauzel           3           17      9020  "
      ]
     },
     "execution_count": 74,
     "metadata": {},
     "output_type": "execute_result"
    }
   ],
   "source": [
    "df_city_bikes_paris.head()"
   ]
  },
  {
   "cell_type": "code",
   "execution_count": 75,
   "id": "fb4b6458-5d8e-40dc-a962-be8239902709",
   "metadata": {},
   "outputs": [
    {
     "data": {
      "text/plain": [
       "(1447, 7)"
      ]
     },
     "execution_count": 75,
     "metadata": {},
     "output_type": "execute_result"
    }
   ],
   "source": [
    "df_city_bikes_paris.shape"
   ]
  },
  {
   "cell_type": "markdown",
   "id": "4558045f-72fb-4a6b-a07e-9e866b2f9976",
   "metadata": {},
   "source": [
    "#### There are 1447 bike stations in Paris"
   ]
  },
  {
   "cell_type": "markdown",
   "id": "67b33a5d-9ffb-4947-9d2b-fdaf85dbd5fe",
   "metadata": {},
   "source": [
    "## Extracting a sample dataframe from City bikes to check for API Calls"
   ]
  },
  {
   "cell_type": "code",
   "execution_count": 76,
   "id": "9e246549-2320-42c9-b158-08f67742c5eb",
   "metadata": {},
   "outputs": [],
   "source": [
    "df_city_bikes_paris_sample = df_city_bikes_paris.iloc[0:3,0:3]"
   ]
  },
  {
   "cell_type": "code",
   "execution_count": 77,
   "id": "1666b9fb-6c91-457c-b2d4-710b41722443",
   "metadata": {},
   "outputs": [
    {
     "data": {
      "text/html": [
       "<div>\n",
       "<style scoped>\n",
       "    .dataframe tbody tr th:only-of-type {\n",
       "        vertical-align: middle;\n",
       "    }\n",
       "\n",
       "    .dataframe tbody tr th {\n",
       "        vertical-align: top;\n",
       "    }\n",
       "\n",
       "    .dataframe thead th {\n",
       "        text-align: right;\n",
       "    }\n",
       "</style>\n",
       "<table border=\"1\" class=\"dataframe\">\n",
       "  <thead>\n",
       "    <tr style=\"text-align: right;\">\n",
       "      <th></th>\n",
       "      <th>latitude</th>\n",
       "      <th>longitude</th>\n",
       "      <th>Lat-Long</th>\n",
       "    </tr>\n",
       "  </thead>\n",
       "  <tbody>\n",
       "    <tr>\n",
       "      <th>0</th>\n",
       "      <td>48.865983</td>\n",
       "      <td>2.275725</td>\n",
       "      <td>48.865983,2.275725</td>\n",
       "    </tr>\n",
       "    <tr>\n",
       "      <th>1</th>\n",
       "      <td>48.853756</td>\n",
       "      <td>2.339096</td>\n",
       "      <td>48.85375581057431,2.3390958085656166</td>\n",
       "    </tr>\n",
       "    <tr>\n",
       "      <th>2</th>\n",
       "      <td>48.867872</td>\n",
       "      <td>2.364898</td>\n",
       "      <td>48.867872484749,2.3648982158072</td>\n",
       "    </tr>\n",
       "  </tbody>\n",
       "</table>\n",
       "</div>"
      ],
      "text/plain": [
       "    latitude  longitude                              Lat-Long\n",
       "0  48.865983   2.275725                    48.865983,2.275725\n",
       "1  48.853756   2.339096  48.85375581057431,2.3390958085656166\n",
       "2  48.867872   2.364898       48.867872484749,2.3648982158072"
      ]
     },
     "execution_count": 77,
     "metadata": {},
     "output_type": "execute_result"
    }
   ],
   "source": [
    "df_city_bikes_paris_sample"
   ]
  },
  {
   "cell_type": "code",
   "execution_count": 12,
   "id": "cbd7a110-5b6d-4c16-861a-b7b952440dbb",
   "metadata": {},
   "outputs": [
    {
     "data": {
      "text/plain": [
       "(3, 3)"
      ]
     },
     "execution_count": 12,
     "metadata": {},
     "output_type": "execute_result"
    }
   ],
   "source": [
    "df_city_bikes_paris_sample.shape"
   ]
  },
  {
   "cell_type": "markdown",
   "id": "6b78fc93-0d93-4b26-93b6-ada5694e68a0",
   "metadata": {},
   "source": [
    "## Extrating data from Foursquare for above bike stations for a sample to verify that API calls are working"
   ]
  },
  {
   "cell_type": "code",
   "execution_count": 13,
   "id": "93b7da6a-5b1c-4ce3-a016-4fb8b1877b3a",
   "metadata": {},
   "outputs": [],
   "source": [
    "# Setting up url and headers values\n",
    "\n",
    "url_4sq = \"https://api.foursquare.com/v3/places/search\"\n",
    "headers = { \"Accept\": \"application/json\", 'Authorization' : api_key_4sq}\n",
    "\n",
    "# Creating list to append data from all lat/long\n",
    "\n",
    "results =[]\n",
    "\n",
    "# looping throgh the city bikes data frame for each lat - long\n",
    "\n",
    "for index,rows in df_city_bikes_paris_sample.iterrows():    \n",
    "    params_dict = { \"query\": \"restaurant\",\"ll\": rows[\"Lat-Long\"],\"radius\": \"1000\"} \n",
    "    response = requests.get(url_4sq, params=params_dict, headers=headers)\n",
    "    data = json.loads(response.text)\n",
    "    for item in data['results']:\n",
    "    # Extract the data for each item and append it to the results list\n",
    "        result = {\n",
    "            'fsq_id': item['fsq_id'],\n",
    "            'name': item['name'],\n",
    "            'distance': item['distance'],\n",
    "            'latitude': item['geocodes']['main']['latitude'],\n",
    "            'longitude': item['geocodes']['main']['longitude'],\n",
    "            'categories': ', '.join([c['name'] for c in item['categories']]),\n",
    "            'city_bikes_ll' : rows[\"Lat-Long\"]\n",
    "    }\n",
    "        results.append(result)\n",
    "\n",
    "# Converting to Dataframe    \n",
    "    \n",
    "city_bikes_foursquare_sample_df = pd.DataFrame(results)"
   ]
  },
  {
   "cell_type": "code",
   "execution_count": 16,
   "id": "c26f0a92-df6e-49db-be90-b3b394712ef4",
   "metadata": {
    "tags": []
   },
   "outputs": [
    {
     "data": {
      "text/html": [
       "<div>\n",
       "<style scoped>\n",
       "    .dataframe tbody tr th:only-of-type {\n",
       "        vertical-align: middle;\n",
       "    }\n",
       "\n",
       "    .dataframe tbody tr th {\n",
       "        vertical-align: top;\n",
       "    }\n",
       "\n",
       "    .dataframe thead th {\n",
       "        text-align: right;\n",
       "    }\n",
       "</style>\n",
       "<table border=\"1\" class=\"dataframe\">\n",
       "  <thead>\n",
       "    <tr style=\"text-align: right;\">\n",
       "      <th></th>\n",
       "      <th>fsq_id</th>\n",
       "      <th>name</th>\n",
       "      <th>distance</th>\n",
       "      <th>latitude</th>\n",
       "      <th>longitude</th>\n",
       "      <th>categories</th>\n",
       "      <th>city_bikes_ll</th>\n",
       "    </tr>\n",
       "  </thead>\n",
       "  <tbody>\n",
       "    <tr>\n",
       "      <th>0</th>\n",
       "      <td>4bade735f964a52042713be3</td>\n",
       "      <td>Café Lamartine</td>\n",
       "      <td>31</td>\n",
       "      <td>48.865940</td>\n",
       "      <td>2.276189</td>\n",
       "      <td>Bar, Café, Brasserie</td>\n",
       "      <td>48.865983,2.275725</td>\n",
       "    </tr>\n",
       "    <tr>\n",
       "      <th>1</th>\n",
       "      <td>5324204f498e195bc3e21511</td>\n",
       "      <td>You Decide</td>\n",
       "      <td>223</td>\n",
       "      <td>48.866904</td>\n",
       "      <td>2.278407</td>\n",
       "      <td>Café, Coffee Shop, Restaurant</td>\n",
       "      <td>48.865983,2.275725</td>\n",
       "    </tr>\n",
       "    <tr>\n",
       "      <th>2</th>\n",
       "      <td>4ec4f3cd2c5b6307e69711f3</td>\n",
       "      <td>Le Pain Quotidien Victor Hugo</td>\n",
       "      <td>220</td>\n",
       "      <td>48.866964</td>\n",
       "      <td>2.278529</td>\n",
       "      <td>Restaurant</td>\n",
       "      <td>48.865983,2.275725</td>\n",
       "    </tr>\n",
       "    <tr>\n",
       "      <th>3</th>\n",
       "      <td>4be54720bcef2d7f369d03e5</td>\n",
       "      <td>Hansan</td>\n",
       "      <td>158</td>\n",
       "      <td>48.865092</td>\n",
       "      <td>2.274127</td>\n",
       "      <td>Asian Restaurant, French Restaurant, Vietnames...</td>\n",
       "      <td>48.865983,2.275725</td>\n",
       "    </tr>\n",
       "    <tr>\n",
       "      <th>4</th>\n",
       "      <td>57caabf0cd107656b7a22851</td>\n",
       "      <td>Le Zinc du 16</td>\n",
       "      <td>246</td>\n",
       "      <td>48.868135</td>\n",
       "      <td>2.275194</td>\n",
       "      <td>Café, Restaurant</td>\n",
       "      <td>48.865983,2.275725</td>\n",
       "    </tr>\n",
       "  </tbody>\n",
       "</table>\n",
       "</div>"
      ],
      "text/plain": [
       "                     fsq_id                           name  distance  \\\n",
       "0  4bade735f964a52042713be3                 Café Lamartine        31   \n",
       "1  5324204f498e195bc3e21511                     You Decide       223   \n",
       "2  4ec4f3cd2c5b6307e69711f3  Le Pain Quotidien Victor Hugo       220   \n",
       "3  4be54720bcef2d7f369d03e5                         Hansan       158   \n",
       "4  57caabf0cd107656b7a22851                  Le Zinc du 16       246   \n",
       "\n",
       "    latitude  longitude                                         categories  \\\n",
       "0  48.865940   2.276189                               Bar, Café, Brasserie   \n",
       "1  48.866904   2.278407                      Café, Coffee Shop, Restaurant   \n",
       "2  48.866964   2.278529                                         Restaurant   \n",
       "3  48.865092   2.274127  Asian Restaurant, French Restaurant, Vietnames...   \n",
       "4  48.868135   2.275194                                   Café, Restaurant   \n",
       "\n",
       "        city_bikes_ll  \n",
       "0  48.865983,2.275725  \n",
       "1  48.865983,2.275725  \n",
       "2  48.865983,2.275725  \n",
       "3  48.865983,2.275725  \n",
       "4  48.865983,2.275725  "
      ]
     },
     "execution_count": 16,
     "metadata": {},
     "output_type": "execute_result"
    }
   ],
   "source": [
    "city_bikes_foursquare_sample_df.head()"
   ]
  },
  {
   "cell_type": "markdown",
   "id": "552ae1f3-b553-468a-810b-8977f52e5fca",
   "metadata": {
    "tags": []
   },
   "source": [
    "### Extrating data from Foursquare for above bike stations for all Bike station for Restaurants"
   ]
  },
  {
   "cell_type": "code",
   "execution_count": 32,
   "id": "f6ff37df-1f64-46e8-9b59-747a9dc2ae85",
   "metadata": {
    "tags": []
   },
   "outputs": [],
   "source": [
    "# Setting up url and headers values\n",
    "url_4sq = \"https://api.foursquare.com/v3/places/search\"\n",
    "headers = { \"Accept\": \"application/json\", 'Authorization' : api_key_4sq}"
   ]
  },
  {
   "cell_type": "code",
   "execution_count": 17,
   "id": "13a675aa-6c29-437a-a7fa-9ffcd7d53922",
   "metadata": {},
   "outputs": [],
   "source": [
    "# Creating list to append data from all lat/long\n",
    "\n",
    "results =[]\n",
    "\n",
    "# looping throgh the city bikes data frame for each lat - long\n",
    "\n",
    "for index,rows in df_city_bikes_paris.iterrows():    \n",
    "    params_dict = { \"query\": \"restaurant\",\"ll\": rows[\"Lat-Long\"],\"radius\": \"1000\"}  # Sending request for category restaurant and radius 1000m\n",
    "    response = requests.get(url_4sq, params=params_dict, headers=headers)\n",
    "    data = json.loads(response.text)\n",
    "    for item in data['results']:\n",
    "    # Extract the data for each item and append it to the results list\n",
    "        result = {\n",
    "            'fsq_id': item['fsq_id'],\n",
    "            'name': item['name'],\n",
    "            'distance': item['distance'],\n",
    "            'latitude': item['geocodes']['main']['latitude'],\n",
    "            'longitude': item['geocodes']['main']['longitude'],\n",
    "            'categories': ', '.join([c['name'] for c in item['categories']]),\n",
    "            'city_bikes_ll' : rows[\"Lat-Long\"]\n",
    "    }\n",
    "        results.append(result)\n",
    "\n",
    "# Converting to Dataframe    \n",
    "\n",
    "city_bikes_foursquare_df_rest = pd.DataFrame(results)"
   ]
  },
  {
   "cell_type": "code",
   "execution_count": 18,
   "id": "96863157-e025-40d4-962e-e7bac6aabda2",
   "metadata": {},
   "outputs": [
    {
     "data": {
      "text/plain": [
       "(14377, 7)"
      ]
     },
     "execution_count": 18,
     "metadata": {},
     "output_type": "execute_result"
    }
   ],
   "source": [
    "city_bikes_foursquare_df_rest.shape"
   ]
  },
  {
   "cell_type": "code",
   "execution_count": 19,
   "id": "a6eeab22-5a23-4ee8-b9ba-f4f1bfbc1d26",
   "metadata": {
    "tags": []
   },
   "outputs": [
    {
     "data": {
      "text/plain": [
       "fsq_id           6012\n",
       "name             5419\n",
       "distance          935\n",
       "latitude         5746\n",
       "longitude        5806\n",
       "categories        977\n",
       "city_bikes_ll    1447\n",
       "dtype: int64"
      ]
     },
     "execution_count": 19,
     "metadata": {},
     "output_type": "execute_result"
    }
   ],
   "source": [
    "city_bikes_foursquare_df_rest.nunique()"
   ]
  },
  {
   "cell_type": "markdown",
   "id": "0bb8c1c9-0f70-4881-a0da-04175e364ba2",
   "metadata": {},
   "source": [
    "### Saving the raw data to csv file "
   ]
  },
  {
   "cell_type": "code",
   "execution_count": 20,
   "id": "00aa0617-1efe-44a0-a57b-9828692825a5",
   "metadata": {},
   "outputs": [],
   "source": [
    "city_bikes_foursquare_df_rest.to_csv(\"city_bikes_foursquare_df_restaurent.csv\", index = True)"
   ]
  },
  {
   "cell_type": "markdown",
   "id": "34810aeb-984f-4162-9976-be3079b443a9",
   "metadata": {},
   "source": [
    "### Extrating data from Foursquare for above bike stations for all Bike station for Bars"
   ]
  },
  {
   "cell_type": "code",
   "execution_count": 24,
   "id": "ef33920d-09ec-4b3f-9081-d0fb8ab477c4",
   "metadata": {},
   "outputs": [],
   "source": [
    "# Creating list to append data from all lat/long\n",
    "\n",
    "results =[]\n",
    "\n",
    "# looping throgh the city bikes data frame for each lat - long\n",
    "\n",
    "for index,rows in df_city_bikes_paris.iterrows():    \n",
    "    params_dict = { \"query\": \"bar\",\"ll\": rows[\"Lat-Long\"],\"radius\": \"1000\"} # Sending request for category bar and radius 1000m\n",
    "    response = requests.get(url_4sq, params=params_dict, headers=headers)\n",
    "    data = json.loads(response.text)\n",
    "    for item in data['results']:\n",
    "    # Extract the data for each item and append it to the results list\n",
    "        result = {\n",
    "            'fsq_id': item['fsq_id'],\n",
    "            'name': item['name'],\n",
    "            'distance': item['distance'],\n",
    "            'latitude': item['geocodes']['main']['latitude'],\n",
    "            'longitude': item['geocodes']['main']['longitude'],\n",
    "            'categories': ', '.join([c['name'] for c in item['categories']]),\n",
    "            'city_bikes_ll' : rows[\"Lat-Long\"]\n",
    "    }\n",
    "        results.append(result)\n",
    "        \n",
    "# Converting to Dataframe    \n",
    "  \n",
    "city_bikes_foursquare_df_bar = pd.DataFrame(results)"
   ]
  },
  {
   "cell_type": "code",
   "execution_count": 25,
   "id": "b9e60a08-8e16-4f27-9d7d-5cdfdab0de58",
   "metadata": {},
   "outputs": [
    {
     "data": {
      "text/plain": [
       "(14221, 7)"
      ]
     },
     "execution_count": 25,
     "metadata": {},
     "output_type": "execute_result"
    }
   ],
   "source": [
    "city_bikes_foursquare_df_bar.shape"
   ]
  },
  {
   "cell_type": "markdown",
   "id": "75802d71-2311-4eaa-8da5-f3d0a932f7b0",
   "metadata": {},
   "source": [
    "### Saving the raw data to csv file "
   ]
  },
  {
   "cell_type": "code",
   "execution_count": 26,
   "id": "443c6222-e66a-4766-9f03-de7693efd6c7",
   "metadata": {},
   "outputs": [],
   "source": [
    "city_bikes_foursquare_df_bar.to_csv(\"city_bikes_foursquare_df_bar.csv\", index = True)"
   ]
  },
  {
   "cell_type": "markdown",
   "id": "0b446dc0-599f-4ada-aa9e-97363e0a06f4",
   "metadata": {},
   "source": [
    "### Combining the Dataframes from Restaurant and Bars"
   ]
  },
  {
   "cell_type": "code",
   "execution_count": 27,
   "id": "db4edbe3-58da-41f7-aa6a-aa5f7c14fa55",
   "metadata": {},
   "outputs": [],
   "source": [
    "city_bikes_foursquare_df_raw = pd.concat([city_bikes_foursquare_df_bar, city_bikes_foursquare_df_rest])"
   ]
  },
  {
   "cell_type": "code",
   "execution_count": 28,
   "id": "4b4329f6-2ef4-4cfe-997e-75af298a9a01",
   "metadata": {},
   "outputs": [
    {
     "data": {
      "text/html": [
       "<div>\n",
       "<style scoped>\n",
       "    .dataframe tbody tr th:only-of-type {\n",
       "        vertical-align: middle;\n",
       "    }\n",
       "\n",
       "    .dataframe tbody tr th {\n",
       "        vertical-align: top;\n",
       "    }\n",
       "\n",
       "    .dataframe thead th {\n",
       "        text-align: right;\n",
       "    }\n",
       "</style>\n",
       "<table border=\"1\" class=\"dataframe\">\n",
       "  <thead>\n",
       "    <tr style=\"text-align: right;\">\n",
       "      <th></th>\n",
       "      <th>fsq_id</th>\n",
       "      <th>name</th>\n",
       "      <th>distance</th>\n",
       "      <th>latitude</th>\n",
       "      <th>longitude</th>\n",
       "      <th>categories</th>\n",
       "      <th>city_bikes_ll</th>\n",
       "    </tr>\n",
       "  </thead>\n",
       "  <tbody>\n",
       "    <tr>\n",
       "      <th>0</th>\n",
       "      <td>502e6bb9e4b0eed9c30f0e43</td>\n",
       "      <td>Bar de l'Hôtel Raphaël</td>\n",
       "      <td>662</td>\n",
       "      <td>48.862172</td>\n",
       "      <td>2.282686</td>\n",
       "      <td>Hotel Bar</td>\n",
       "      <td>48.865983,2.275725</td>\n",
       "    </tr>\n",
       "    <tr>\n",
       "      <th>1</th>\n",
       "      <td>4c549caf72cf0f472cc4d3d4</td>\n",
       "      <td>Au barbar</td>\n",
       "      <td>278</td>\n",
       "      <td>48.863712</td>\n",
       "      <td>2.277680</td>\n",
       "      <td>Bar</td>\n",
       "      <td>48.865983,2.275725</td>\n",
       "    </tr>\n",
       "    <tr>\n",
       "      <th>2</th>\n",
       "      <td>4b77f147f964a52097af2ee3</td>\n",
       "      <td>Saint-James Club</td>\n",
       "      <td>582</td>\n",
       "      <td>48.870457</td>\n",
       "      <td>2.279956</td>\n",
       "      <td>Hotel Bar</td>\n",
       "      <td>48.865983,2.275725</td>\n",
       "    </tr>\n",
       "    <tr>\n",
       "      <th>3</th>\n",
       "      <td>5ff3069fb907b733a9252835</td>\n",
       "      <td>Joe &amp; The Juice</td>\n",
       "      <td>687</td>\n",
       "      <td>48.869255</td>\n",
       "      <td>2.283876</td>\n",
       "      <td>Dining and Drinking</td>\n",
       "      <td>48.865983,2.275725</td>\n",
       "    </tr>\n",
       "    <tr>\n",
       "      <th>4</th>\n",
       "      <td>535fdf29498ecab0a45b1d4e</td>\n",
       "      <td>Le Metropolitan Lounge Bar</td>\n",
       "      <td>530</td>\n",
       "      <td>48.865556</td>\n",
       "      <td>2.282755</td>\n",
       "      <td>Hotel Bar</td>\n",
       "      <td>48.865983,2.275725</td>\n",
       "    </tr>\n",
       "  </tbody>\n",
       "</table>\n",
       "</div>"
      ],
      "text/plain": [
       "                     fsq_id                        name  distance   latitude  \\\n",
       "0  502e6bb9e4b0eed9c30f0e43      Bar de l'Hôtel Raphaël       662  48.862172   \n",
       "1  4c549caf72cf0f472cc4d3d4                   Au barbar       278  48.863712   \n",
       "2  4b77f147f964a52097af2ee3            Saint-James Club       582  48.870457   \n",
       "3  5ff3069fb907b733a9252835             Joe & The Juice       687  48.869255   \n",
       "4  535fdf29498ecab0a45b1d4e  Le Metropolitan Lounge Bar       530  48.865556   \n",
       "\n",
       "   longitude           categories       city_bikes_ll  \n",
       "0   2.282686            Hotel Bar  48.865983,2.275725  \n",
       "1   2.277680                  Bar  48.865983,2.275725  \n",
       "2   2.279956            Hotel Bar  48.865983,2.275725  \n",
       "3   2.283876  Dining and Drinking  48.865983,2.275725  \n",
       "4   2.282755            Hotel Bar  48.865983,2.275725  "
      ]
     },
     "execution_count": 28,
     "metadata": {},
     "output_type": "execute_result"
    }
   ],
   "source": [
    "city_bikes_foursquare_df_raw.head()"
   ]
  },
  {
   "cell_type": "code",
   "execution_count": 29,
   "id": "f47496a9-6c87-42e6-bce3-9d3cfa6728a5",
   "metadata": {},
   "outputs": [
    {
     "data": {
      "text/plain": [
       "(28598, 7)"
      ]
     },
     "execution_count": 29,
     "metadata": {},
     "output_type": "execute_result"
    }
   ],
   "source": [
    "city_bikes_foursquare_df_raw.shape"
   ]
  },
  {
   "cell_type": "markdown",
   "id": "d0ade894-c296-4c10-819b-b13099d2b215",
   "metadata": {},
   "source": [
    "### Saving the raw data to csv file "
   ]
  },
  {
   "cell_type": "code",
   "execution_count": 31,
   "id": "4f2d89fe-3cbb-46a8-86b3-8023317f38e4",
   "metadata": {},
   "outputs": [],
   "source": [
    "city_bikes_foursquare_df_raw.to_csv(\"city_bikes_foursquare_df_raw.csv\", index = True)"
   ]
  },
  {
   "cell_type": "markdown",
   "id": "484519e9-7123-4cd9-9e7a-56b2f5895ea5",
   "metadata": {},
   "source": [
    "### Loading from csv raw data for foursquare api calls"
   ]
  },
  {
   "cell_type": "code",
   "execution_count": 50,
   "id": "010eef12-e67d-494c-95cf-b7133fde4253",
   "metadata": {},
   "outputs": [],
   "source": [
    "city_bikes_foursquare_df = pd.read_csv('city_bikes_foursquare_df_raw.csv')"
   ]
  },
  {
   "cell_type": "markdown",
   "id": "3499e1ec-09d2-49a9-8a36-532bbe6cbe5c",
   "metadata": {},
   "source": [
    "### Check no of unique restaurants"
   ]
  },
  {
   "cell_type": "code",
   "execution_count": 33,
   "id": "f4b59a3d-84bb-40a6-bfac-0d16fcb47539",
   "metadata": {},
   "outputs": [
    {
     "data": {
      "text/plain": [
       "6869"
      ]
     },
     "execution_count": 33,
     "metadata": {},
     "output_type": "execute_result"
    }
   ],
   "source": [
    "\n",
    "city_bikes_foursquare_df['name'].nunique()"
   ]
  },
  {
   "cell_type": "markdown",
   "id": "d292400e-10f8-442e-902c-29d4a461d909",
   "metadata": {
    "tags": []
   },
   "source": [
    "### Checking for duplicates\n"
   ]
  },
  {
   "cell_type": "code",
   "execution_count": 34,
   "id": "12630e6d-46cb-4dd8-a716-525a86bfa7be",
   "metadata": {},
   "outputs": [],
   "source": [
    "duplicate_count = city_bikes_foursquare_df[city_bikes_foursquare_df['name'].duplicated() == True]"
   ]
  },
  {
   "cell_type": "code",
   "execution_count": 35,
   "id": "791da4bf-5b96-4e5a-bc81-e1442763dfa0",
   "metadata": {},
   "outputs": [
    {
     "data": {
      "text/plain": [
       "(21729, 8)"
      ]
     },
     "execution_count": 35,
     "metadata": {},
     "output_type": "execute_result"
    }
   ],
   "source": [
    "duplicate_count.shape"
   ]
  },
  {
   "cell_type": "markdown",
   "id": "1eaa59a6-04e8-4a61-9037-c58e741058cb",
   "metadata": {},
   "source": [
    "### Removing duplicates"
   ]
  },
  {
   "cell_type": "code",
   "execution_count": 36,
   "id": "283fa7cd-8397-4390-801c-bb1486dabfdc",
   "metadata": {},
   "outputs": [],
   "source": [
    "city_bikes_foursquare_df = city_bikes_foursquare_df.drop_duplicates(subset=['name'],keep='first')"
   ]
  },
  {
   "cell_type": "code",
   "execution_count": 37,
   "id": "3b26c02d-4d7e-40a5-9795-3e4f79fcce68",
   "metadata": {},
   "outputs": [
    {
     "data": {
      "text/plain": [
       "(6869, 8)"
      ]
     },
     "execution_count": 37,
     "metadata": {},
     "output_type": "execute_result"
    }
   ],
   "source": [
    "city_bikes_foursquare_df.shape"
   ]
  },
  {
   "cell_type": "markdown",
   "id": "e22c7660-5193-4fe5-8417-1ffc17a5538f",
   "metadata": {},
   "source": [
    "### There are 6869 restaurants and bars"
   ]
  },
  {
   "cell_type": "code",
   "execution_count": 38,
   "id": "f3ce7f20-1ae7-4045-8514-498310d6e4f2",
   "metadata": {},
   "outputs": [
    {
     "data": {
      "text/html": [
       "<div>\n",
       "<style scoped>\n",
       "    .dataframe tbody tr th:only-of-type {\n",
       "        vertical-align: middle;\n",
       "    }\n",
       "\n",
       "    .dataframe tbody tr th {\n",
       "        vertical-align: top;\n",
       "    }\n",
       "\n",
       "    .dataframe thead th {\n",
       "        text-align: right;\n",
       "    }\n",
       "</style>\n",
       "<table border=\"1\" class=\"dataframe\">\n",
       "  <thead>\n",
       "    <tr style=\"text-align: right;\">\n",
       "      <th></th>\n",
       "      <th>Unnamed: 0</th>\n",
       "      <th>fsq_id</th>\n",
       "      <th>name</th>\n",
       "      <th>distance</th>\n",
       "      <th>latitude</th>\n",
       "      <th>longitude</th>\n",
       "      <th>categories</th>\n",
       "      <th>city_bikes_ll</th>\n",
       "    </tr>\n",
       "  </thead>\n",
       "  <tbody>\n",
       "    <tr>\n",
       "      <th>0</th>\n",
       "      <td>0</td>\n",
       "      <td>502e6bb9e4b0eed9c30f0e43</td>\n",
       "      <td>Bar de l'Hôtel Raphaël</td>\n",
       "      <td>662</td>\n",
       "      <td>48.862172</td>\n",
       "      <td>2.282686</td>\n",
       "      <td>Hotel Bar</td>\n",
       "      <td>48.865983,2.275725</td>\n",
       "    </tr>\n",
       "    <tr>\n",
       "      <th>1</th>\n",
       "      <td>1</td>\n",
       "      <td>4c549caf72cf0f472cc4d3d4</td>\n",
       "      <td>Au barbar</td>\n",
       "      <td>278</td>\n",
       "      <td>48.863712</td>\n",
       "      <td>2.277680</td>\n",
       "      <td>Bar</td>\n",
       "      <td>48.865983,2.275725</td>\n",
       "    </tr>\n",
       "    <tr>\n",
       "      <th>2</th>\n",
       "      <td>2</td>\n",
       "      <td>4b77f147f964a52097af2ee3</td>\n",
       "      <td>Saint-James Club</td>\n",
       "      <td>582</td>\n",
       "      <td>48.870457</td>\n",
       "      <td>2.279956</td>\n",
       "      <td>Hotel Bar</td>\n",
       "      <td>48.865983,2.275725</td>\n",
       "    </tr>\n",
       "    <tr>\n",
       "      <th>3</th>\n",
       "      <td>3</td>\n",
       "      <td>5ff3069fb907b733a9252835</td>\n",
       "      <td>Joe &amp; The Juice</td>\n",
       "      <td>687</td>\n",
       "      <td>48.869255</td>\n",
       "      <td>2.283876</td>\n",
       "      <td>Dining and Drinking</td>\n",
       "      <td>48.865983,2.275725</td>\n",
       "    </tr>\n",
       "    <tr>\n",
       "      <th>4</th>\n",
       "      <td>4</td>\n",
       "      <td>535fdf29498ecab0a45b1d4e</td>\n",
       "      <td>Le Metropolitan Lounge Bar</td>\n",
       "      <td>530</td>\n",
       "      <td>48.865556</td>\n",
       "      <td>2.282755</td>\n",
       "      <td>Hotel Bar</td>\n",
       "      <td>48.865983,2.275725</td>\n",
       "    </tr>\n",
       "  </tbody>\n",
       "</table>\n",
       "</div>"
      ],
      "text/plain": [
       "   Unnamed: 0                    fsq_id                        name  distance  \\\n",
       "0           0  502e6bb9e4b0eed9c30f0e43      Bar de l'Hôtel Raphaël       662   \n",
       "1           1  4c549caf72cf0f472cc4d3d4                   Au barbar       278   \n",
       "2           2  4b77f147f964a52097af2ee3            Saint-James Club       582   \n",
       "3           3  5ff3069fb907b733a9252835             Joe & The Juice       687   \n",
       "4           4  535fdf29498ecab0a45b1d4e  Le Metropolitan Lounge Bar       530   \n",
       "\n",
       "    latitude  longitude           categories       city_bikes_ll  \n",
       "0  48.862172   2.282686            Hotel Bar  48.865983,2.275725  \n",
       "1  48.863712   2.277680                  Bar  48.865983,2.275725  \n",
       "2  48.870457   2.279956            Hotel Bar  48.865983,2.275725  \n",
       "3  48.869255   2.283876  Dining and Drinking  48.865983,2.275725  \n",
       "4  48.865556   2.282755            Hotel Bar  48.865983,2.275725  "
      ]
     },
     "execution_count": 38,
     "metadata": {},
     "output_type": "execute_result"
    }
   ],
   "source": [
    "city_bikes_foursquare_df.head()"
   ]
  },
  {
   "cell_type": "markdown",
   "id": "9550917c-a2d8-4cff-acde-b77d66bcdbdd",
   "metadata": {},
   "source": [
    "### Saving the data to csv file"
   ]
  },
  {
   "cell_type": "code",
   "execution_count": 39,
   "id": "27ee7d5c-ad71-43d4-a341-c2847d406cec",
   "metadata": {},
   "outputs": [],
   "source": [
    "city_bikes_foursquare_df.to_csv(\"city_bikes_foursquare_df.csv\", index = True)"
   ]
  },
  {
   "cell_type": "markdown",
   "id": "a43605b8-66be-48ae-a86c-9c0e324a46d4",
   "metadata": {},
   "source": [
    "city_bikes_foursquare_df = pd.read_csv(\"city_bikes_foursquare_df.csv\", index_col=[0])"
   ]
  },
  {
   "cell_type": "markdown",
   "id": "b9e6cf29-de27-4480-ac7a-abe5af41d6a5",
   "metadata": {},
   "source": [
    "# Extrating data from Yelp for above bike stations for a sample to verify that API calls are working"
   ]
  },
  {
   "cell_type": "code",
   "execution_count": 78,
   "id": "c657b8e2-7f33-41db-af6c-79d9539f4b16",
   "metadata": {},
   "outputs": [],
   "source": [
    "import os\n",
    "api_key_yelp = os.environ['$YELP']\n"
   ]
  },
  {
   "cell_type": "code",
   "execution_count": 79,
   "id": "1279fcf1-3c0d-46f1-8680-d30380d14594",
   "metadata": {},
   "outputs": [],
   "source": [
    "url_yelp = 'https://api.yelp.com/v3/businesses/search'"
   ]
  },
  {
   "cell_type": "code",
   "execution_count": 80,
   "id": "5e98a5d2-5dd0-43bb-8a7b-f17a3b333fbe",
   "metadata": {},
   "outputs": [
    {
     "data": {
      "text/html": [
       "<div>\n",
       "<style scoped>\n",
       "    .dataframe tbody tr th:only-of-type {\n",
       "        vertical-align: middle;\n",
       "    }\n",
       "\n",
       "    .dataframe tbody tr th {\n",
       "        vertical-align: top;\n",
       "    }\n",
       "\n",
       "    .dataframe thead th {\n",
       "        text-align: right;\n",
       "    }\n",
       "</style>\n",
       "<table border=\"1\" class=\"dataframe\">\n",
       "  <thead>\n",
       "    <tr style=\"text-align: right;\">\n",
       "      <th></th>\n",
       "      <th>name</th>\n",
       "      <th>rating</th>\n",
       "      <th>review_count</th>\n",
       "      <th>latitude</th>\n",
       "      <th>longitude</th>\n",
       "      <th>categories</th>\n",
       "      <th>location</th>\n",
       "      <th>city_bikes_ll</th>\n",
       "    </tr>\n",
       "  </thead>\n",
       "  <tbody>\n",
       "    <tr>\n",
       "      <th>0</th>\n",
       "      <td>La Coïncidence</td>\n",
       "      <td>4.5</td>\n",
       "      <td>509</td>\n",
       "      <td>48.868105</td>\n",
       "      <td>2.284365</td>\n",
       "      <td>French</td>\n",
       "      <td>15 rue Mesnil</td>\n",
       "      <td>48.865983,2.275725</td>\n",
       "    </tr>\n",
       "    <tr>\n",
       "      <th>1</th>\n",
       "      <td>Le Poincaré</td>\n",
       "      <td>4.0</td>\n",
       "      <td>142</td>\n",
       "      <td>48.865057</td>\n",
       "      <td>2.286521</td>\n",
       "      <td>French, Brasseries, Wine Bars</td>\n",
       "      <td>22 avenue Raymond Poincaré</td>\n",
       "      <td>48.865983,2.275725</td>\n",
       "    </tr>\n",
       "    <tr>\n",
       "      <th>2</th>\n",
       "      <td>L'Astrance</td>\n",
       "      <td>4.5</td>\n",
       "      <td>62</td>\n",
       "      <td>48.858440</td>\n",
       "      <td>2.287340</td>\n",
       "      <td>French</td>\n",
       "      <td>4 rue Beethoven</td>\n",
       "      <td>48.865983,2.275725</td>\n",
       "    </tr>\n",
       "    <tr>\n",
       "      <th>3</th>\n",
       "      <td>Crêperie Framboise Passy-Trocadéro</td>\n",
       "      <td>4.5</td>\n",
       "      <td>64</td>\n",
       "      <td>48.858829</td>\n",
       "      <td>2.285040</td>\n",
       "      <td>Creperies, Gluten-Free</td>\n",
       "      <td>10 bd Delessert</td>\n",
       "      <td>48.865983,2.275725</td>\n",
       "    </tr>\n",
       "    <tr>\n",
       "      <th>4</th>\n",
       "      <td>Girafe</td>\n",
       "      <td>3.5</td>\n",
       "      <td>93</td>\n",
       "      <td>48.862584</td>\n",
       "      <td>2.288581</td>\n",
       "      <td>French, Seafood</td>\n",
       "      <td>1 place du Trocadéro</td>\n",
       "      <td>48.865983,2.275725</td>\n",
       "    </tr>\n",
       "  </tbody>\n",
       "</table>\n",
       "</div>"
      ],
      "text/plain": [
       "                                 name  rating  review_count   latitude  \\\n",
       "0                      La Coïncidence     4.5           509  48.868105   \n",
       "1                         Le Poincaré     4.0           142  48.865057   \n",
       "2                          L'Astrance     4.5            62  48.858440   \n",
       "3  Crêperie Framboise Passy-Trocadéro     4.5            64  48.858829   \n",
       "4                              Girafe     3.5            93  48.862584   \n",
       "\n",
       "   longitude                     categories                    location  \\\n",
       "0   2.284365                         French               15 rue Mesnil   \n",
       "1   2.286521  French, Brasseries, Wine Bars  22 avenue Raymond Poincaré   \n",
       "2   2.287340                         French             4 rue Beethoven   \n",
       "3   2.285040         Creperies, Gluten-Free             10 bd Delessert   \n",
       "4   2.288581                French, Seafood        1 place du Trocadéro   \n",
       "\n",
       "        city_bikes_ll  \n",
       "0  48.865983,2.275725  \n",
       "1  48.865983,2.275725  \n",
       "2  48.865983,2.275725  \n",
       "3  48.865983,2.275725  \n",
       "4  48.865983,2.275725  "
      ]
     },
     "execution_count": 80,
     "metadata": {},
     "output_type": "execute_result"
    }
   ],
   "source": [
    "# Looping the sample data frame to get data for multiple lat long and saving to a list\n",
    "\n",
    "headers = { 'Authorization' : 'bearer %s' % api_key_yelp}\n",
    "\n",
    "results = []\n",
    "for index,rows in df_city_bikes_paris.iterrows():    \n",
    "    params_dict = { 'latitude' : rows['latitude'],'longitude' :rows['longitude'],'radius' : '1000'} # Sending request for lat-long and radius 1000m\n",
    "    response = requests.get(url_yelp, params=params_dict, headers=headers)\n",
    "    data = json.loads(response.text)\n",
    "    for biz in data['businesses']:\n",
    "            result = {\n",
    "                'name' : biz['name'],\n",
    "                'rating' : biz['rating'],\n",
    "                'review_count' : biz['review_count'],\n",
    "                'latitude' : biz['coordinates']['latitude'],\n",
    "                'longitude' : biz['coordinates']['longitude'],\n",
    "                'categories' :  ', '.join([c['title'] for c in biz['categories']]),\n",
    "                'location' : biz['location']['address1'],\n",
    "                'city_bikes_ll' : rows[\"Lat-Long\"]\n",
    "            }\n",
    "            results.append(result)\n",
    "\n",
    "# Create a pandas DataFrame from the results list\n",
    "df_yelp_sample = pd.DataFrame(results)\n",
    "df_yelp_sample.head()\n"
   ]
  },
  {
   "cell_type": "code",
   "execution_count": 81,
   "id": "008363fa-ed98-4815-8b58-cd3b6d7cb1a8",
   "metadata": {},
   "outputs": [
    {
     "data": {
      "text/plain": [
       "(28573, 8)"
      ]
     },
     "execution_count": 81,
     "metadata": {},
     "output_type": "execute_result"
    }
   ],
   "source": [
    "df_yelp_sample.shape"
   ]
  },
  {
   "cell_type": "markdown",
   "id": "e7184327-6c49-4a46-95fb-8c68724cf1cc",
   "metadata": {},
   "source": [
    "### Extrating data from Yelp for all  Bike station"
   ]
  },
  {
   "cell_type": "code",
   "execution_count": 12,
   "id": "a1a2c319-6034-49ae-9410-06881bcc5853",
   "metadata": {},
   "outputs": [],
   "source": [
    "# Looping the full data frame to get data for multiple lat long and saving to a list\n",
    "\n",
    "headers = { 'Authorization' : 'bearer %s' % api_key_yelp}\n",
    "\n",
    "results = []\n",
    "for index,rows in df_city_bikes_paris.iterrows():    \n",
    "    params_dict = { 'latitude' : rows['latitude'],'longitude' :rows['longitude'],'radius' : '1000'} # Sending request for lat-long and radius 1000m\n",
    "    response = requests.get(url_yelp, params=params_dict, headers=headers)\n",
    "    data = json.loads(response.text)\n",
    "    for biz in data['businesses']:\n",
    "            result = {\n",
    "                'name' : biz['name'],\n",
    "                'rating' : biz['rating'],\n",
    "                'review_count' : biz['review_count'],\n",
    "                'latitude' : biz['coordinates']['latitude'],\n",
    "                'longitude' : biz['coordinates']['longitude'],\n",
    "                'categories' :  ', '.join([c['title'] for c in biz['categories']]),,\n",
    "                'location' : biz['location']['address1'],\n",
    "                'city_bikes_ll' : rows[\"Lat-Long\"]\n",
    "            }\n",
    "            results.append(result)\n",
    "\n",
    "# Create a pandas DataFrame from the results list\n",
    "yelp_paris_df = pd.DataFrame(results)\n",
    "yelp_paris_df.head()"
   ]
  },
  {
   "cell_type": "code",
   "execution_count": 33,
   "id": "7076cdf1-45aa-494c-aea2-9026160a542f",
   "metadata": {},
   "outputs": [
    {
     "data": {
      "text/html": [
       "<div>\n",
       "<style scoped>\n",
       "    .dataframe tbody tr th:only-of-type {\n",
       "        vertical-align: middle;\n",
       "    }\n",
       "\n",
       "    .dataframe tbody tr th {\n",
       "        vertical-align: top;\n",
       "    }\n",
       "\n",
       "    .dataframe thead th {\n",
       "        text-align: right;\n",
       "    }\n",
       "</style>\n",
       "<table border=\"1\" class=\"dataframe\">\n",
       "  <thead>\n",
       "    <tr style=\"text-align: right;\">\n",
       "      <th></th>\n",
       "      <th>name</th>\n",
       "      <th>rating</th>\n",
       "      <th>review_count</th>\n",
       "      <th>latitude</th>\n",
       "      <th>longitude</th>\n",
       "      <th>categories</th>\n",
       "      <th>location</th>\n",
       "    </tr>\n",
       "  </thead>\n",
       "  <tbody>\n",
       "    <tr>\n",
       "      <th>0</th>\n",
       "      <td>La Coïncidence</td>\n",
       "      <td>4.5</td>\n",
       "      <td>509</td>\n",
       "      <td>48.868105</td>\n",
       "      <td>2.284365</td>\n",
       "      <td>French</td>\n",
       "      <td>15 rue Mesnil</td>\n",
       "    </tr>\n",
       "    <tr>\n",
       "      <th>1</th>\n",
       "      <td>Le Poincaré</td>\n",
       "      <td>4.0</td>\n",
       "      <td>142</td>\n",
       "      <td>48.865057</td>\n",
       "      <td>2.286521</td>\n",
       "      <td>French, Brasseries, Wine Bars</td>\n",
       "      <td>22 avenue Raymond Poincaré</td>\n",
       "    </tr>\n",
       "    <tr>\n",
       "      <th>2</th>\n",
       "      <td>L'Astrance</td>\n",
       "      <td>4.5</td>\n",
       "      <td>62</td>\n",
       "      <td>48.858440</td>\n",
       "      <td>2.287340</td>\n",
       "      <td>French</td>\n",
       "      <td>4 rue Beethoven</td>\n",
       "    </tr>\n",
       "    <tr>\n",
       "      <th>3</th>\n",
       "      <td>Crêperie Framboise Passy-Trocadéro</td>\n",
       "      <td>4.5</td>\n",
       "      <td>64</td>\n",
       "      <td>48.858829</td>\n",
       "      <td>2.285040</td>\n",
       "      <td>Creperies, Gluten-Free</td>\n",
       "      <td>10 bd Delessert</td>\n",
       "    </tr>\n",
       "    <tr>\n",
       "      <th>4</th>\n",
       "      <td>Girafe</td>\n",
       "      <td>3.5</td>\n",
       "      <td>93</td>\n",
       "      <td>48.862584</td>\n",
       "      <td>2.288581</td>\n",
       "      <td>French, Seafood</td>\n",
       "      <td>1 place du Trocadéro</td>\n",
       "    </tr>\n",
       "  </tbody>\n",
       "</table>\n",
       "</div>"
      ],
      "text/plain": [
       "                                 name  rating  review_count   latitude  \\\n",
       "0                      La Coïncidence     4.5           509  48.868105   \n",
       "1                         Le Poincaré     4.0           142  48.865057   \n",
       "2                          L'Astrance     4.5            62  48.858440   \n",
       "3  Crêperie Framboise Passy-Trocadéro     4.5            64  48.858829   \n",
       "4                              Girafe     3.5            93  48.862584   \n",
       "\n",
       "   longitude                     categories                    location  \n",
       "0   2.284365                         French               15 rue Mesnil  \n",
       "1   2.286521  French, Brasseries, Wine Bars  22 avenue Raymond Poincaré  \n",
       "2   2.287340                         French             4 rue Beethoven  \n",
       "3   2.285040         Creperies, Gluten-Free             10 bd Delessert  \n",
       "4   2.288581                French, Seafood        1 place du Trocadéro  "
      ]
     },
     "execution_count": 33,
     "metadata": {},
     "output_type": "execute_result"
    }
   ],
   "source": [
    "yelp_paris_df.head()"
   ]
  },
  {
   "cell_type": "markdown",
   "id": "90dc5744-edbe-4b45-bdb9-7739dcb3a4fd",
   "metadata": {},
   "source": [
    "### Saving the raw data to csv file "
   ]
  },
  {
   "cell_type": "code",
   "execution_count": 82,
   "id": "2eb1893f-532a-45ba-859d-f18b510a5f7c",
   "metadata": {},
   "outputs": [],
   "source": [
    "yelp_paris_df.to_csv(\"city_bikes_yelp_df_raw.csv\")"
   ]
  },
  {
   "cell_type": "code",
   "execution_count": 83,
   "id": "9189e4d9-925b-4fbd-9b86-b18e86d24992",
   "metadata": {},
   "outputs": [],
   "source": [
    "yelp_paris_df = pd.read_csv(\"city_bikes_yelp_df_raw.csv\", index_col=[0])"
   ]
  },
  {
   "cell_type": "code",
   "execution_count": 84,
   "id": "f21adfa2-a522-4759-bf2d-b76da8aed7e6",
   "metadata": {},
   "outputs": [
    {
     "data": {
      "text/html": [
       "<div>\n",
       "<style scoped>\n",
       "    .dataframe tbody tr th:only-of-type {\n",
       "        vertical-align: middle;\n",
       "    }\n",
       "\n",
       "    .dataframe tbody tr th {\n",
       "        vertical-align: top;\n",
       "    }\n",
       "\n",
       "    .dataframe thead th {\n",
       "        text-align: right;\n",
       "    }\n",
       "</style>\n",
       "<table border=\"1\" class=\"dataframe\">\n",
       "  <thead>\n",
       "    <tr style=\"text-align: right;\">\n",
       "      <th></th>\n",
       "      <th>name</th>\n",
       "      <th>rating</th>\n",
       "      <th>review_count</th>\n",
       "      <th>latitude</th>\n",
       "      <th>longitude</th>\n",
       "      <th>categories</th>\n",
       "      <th>location</th>\n",
       "      <th>city_bikes_ll</th>\n",
       "    </tr>\n",
       "  </thead>\n",
       "  <tbody>\n",
       "    <tr>\n",
       "      <th>0</th>\n",
       "      <td>La Coïncidence</td>\n",
       "      <td>4.5</td>\n",
       "      <td>509</td>\n",
       "      <td>48.868105</td>\n",
       "      <td>2.284365</td>\n",
       "      <td>French</td>\n",
       "      <td>15 rue Mesnil</td>\n",
       "      <td>48.865983,2.275725</td>\n",
       "    </tr>\n",
       "    <tr>\n",
       "      <th>1</th>\n",
       "      <td>Le Poincaré</td>\n",
       "      <td>4.0</td>\n",
       "      <td>142</td>\n",
       "      <td>48.865057</td>\n",
       "      <td>2.286521</td>\n",
       "      <td>French, Brasseries, Wine Bars</td>\n",
       "      <td>22 avenue Raymond Poincaré</td>\n",
       "      <td>48.865983,2.275725</td>\n",
       "    </tr>\n",
       "    <tr>\n",
       "      <th>2</th>\n",
       "      <td>L'Astrance</td>\n",
       "      <td>4.5</td>\n",
       "      <td>62</td>\n",
       "      <td>48.858440</td>\n",
       "      <td>2.287340</td>\n",
       "      <td>French</td>\n",
       "      <td>4 rue Beethoven</td>\n",
       "      <td>48.865983,2.275725</td>\n",
       "    </tr>\n",
       "    <tr>\n",
       "      <th>3</th>\n",
       "      <td>Crêperie Framboise Passy-Trocadéro</td>\n",
       "      <td>4.5</td>\n",
       "      <td>64</td>\n",
       "      <td>48.858829</td>\n",
       "      <td>2.285040</td>\n",
       "      <td>Creperies, Gluten-Free</td>\n",
       "      <td>10 bd Delessert</td>\n",
       "      <td>48.865983,2.275725</td>\n",
       "    </tr>\n",
       "    <tr>\n",
       "      <th>4</th>\n",
       "      <td>Girafe</td>\n",
       "      <td>3.5</td>\n",
       "      <td>93</td>\n",
       "      <td>48.862584</td>\n",
       "      <td>2.288581</td>\n",
       "      <td>French, Seafood</td>\n",
       "      <td>1 place du Trocadéro</td>\n",
       "      <td>48.865983,2.275725</td>\n",
       "    </tr>\n",
       "  </tbody>\n",
       "</table>\n",
       "</div>"
      ],
      "text/plain": [
       "                                 name  rating  review_count   latitude  \\\n",
       "0                      La Coïncidence     4.5           509  48.868105   \n",
       "1                         Le Poincaré     4.0           142  48.865057   \n",
       "2                          L'Astrance     4.5            62  48.858440   \n",
       "3  Crêperie Framboise Passy-Trocadéro     4.5            64  48.858829   \n",
       "4                              Girafe     3.5            93  48.862584   \n",
       "\n",
       "   longitude                     categories                    location  \\\n",
       "0   2.284365                         French               15 rue Mesnil   \n",
       "1   2.286521  French, Brasseries, Wine Bars  22 avenue Raymond Poincaré   \n",
       "2   2.287340                         French             4 rue Beethoven   \n",
       "3   2.285040         Creperies, Gluten-Free             10 bd Delessert   \n",
       "4   2.288581                French, Seafood        1 place du Trocadéro   \n",
       "\n",
       "        city_bikes_ll  \n",
       "0  48.865983,2.275725  \n",
       "1  48.865983,2.275725  \n",
       "2  48.865983,2.275725  \n",
       "3  48.865983,2.275725  \n",
       "4  48.865983,2.275725  "
      ]
     },
     "execution_count": 84,
     "metadata": {},
     "output_type": "execute_result"
    }
   ],
   "source": [
    "yelp_paris_df.head()"
   ]
  },
  {
   "cell_type": "markdown",
   "id": "ac5e86a4-ff50-48e4-a5e1-d4741df41a7a",
   "metadata": {},
   "source": [
    "### Checking for duplicates"
   ]
  },
  {
   "cell_type": "code",
   "execution_count": 85,
   "id": "3d627a56-91f1-4231-9de7-dd997ff411d6",
   "metadata": {},
   "outputs": [],
   "source": [
    "duplicate_count = yelp_paris_df[yelp_paris_df['name'].duplicated() == True]"
   ]
  },
  {
   "cell_type": "code",
   "execution_count": 86,
   "id": "280606c9-96ff-4c28-9554-ba3fdc6f4d2d",
   "metadata": {},
   "outputs": [
    {
     "data": {
      "text/plain": [
       "(24190, 8)"
      ]
     },
     "execution_count": 86,
     "metadata": {},
     "output_type": "execute_result"
    }
   ],
   "source": [
    "duplicate_count.shape"
   ]
  },
  {
   "cell_type": "markdown",
   "id": "1322e1d1-ffb1-4bce-827c-2ca1dfe3ce96",
   "metadata": {},
   "source": [
    "### Removing duplicates"
   ]
  },
  {
   "cell_type": "code",
   "execution_count": 87,
   "id": "2b076719-4d6d-4b81-9ea0-4ff487a53ff9",
   "metadata": {},
   "outputs": [],
   "source": [
    "yelp_paris_df = yelp_paris_df.drop_duplicates(subset=['name'],keep='first')"
   ]
  },
  {
   "cell_type": "code",
   "execution_count": 88,
   "id": "c23a3e0f-dbf6-49dd-aecf-97bd57769145",
   "metadata": {},
   "outputs": [
    {
     "data": {
      "text/plain": [
       "(4383, 8)"
      ]
     },
     "execution_count": 88,
     "metadata": {},
     "output_type": "execute_result"
    }
   ],
   "source": [
    "yelp_paris_df.shape"
   ]
  },
  {
   "cell_type": "code",
   "execution_count": 89,
   "id": "148cb5e1-d145-4f49-910f-0ea85c3c187a",
   "metadata": {},
   "outputs": [
    {
     "data": {
      "text/html": [
       "<div>\n",
       "<style scoped>\n",
       "    .dataframe tbody tr th:only-of-type {\n",
       "        vertical-align: middle;\n",
       "    }\n",
       "\n",
       "    .dataframe tbody tr th {\n",
       "        vertical-align: top;\n",
       "    }\n",
       "\n",
       "    .dataframe thead th {\n",
       "        text-align: right;\n",
       "    }\n",
       "</style>\n",
       "<table border=\"1\" class=\"dataframe\">\n",
       "  <thead>\n",
       "    <tr style=\"text-align: right;\">\n",
       "      <th></th>\n",
       "      <th>name</th>\n",
       "      <th>rating</th>\n",
       "      <th>review_count</th>\n",
       "      <th>latitude</th>\n",
       "      <th>longitude</th>\n",
       "      <th>categories</th>\n",
       "      <th>location</th>\n",
       "      <th>city_bikes_ll</th>\n",
       "    </tr>\n",
       "  </thead>\n",
       "  <tbody>\n",
       "    <tr>\n",
       "      <th>0</th>\n",
       "      <td>La Coïncidence</td>\n",
       "      <td>4.5</td>\n",
       "      <td>509</td>\n",
       "      <td>48.868105</td>\n",
       "      <td>2.284365</td>\n",
       "      <td>French</td>\n",
       "      <td>15 rue Mesnil</td>\n",
       "      <td>48.865983,2.275725</td>\n",
       "    </tr>\n",
       "    <tr>\n",
       "      <th>1</th>\n",
       "      <td>Le Poincaré</td>\n",
       "      <td>4.0</td>\n",
       "      <td>142</td>\n",
       "      <td>48.865057</td>\n",
       "      <td>2.286521</td>\n",
       "      <td>French, Brasseries, Wine Bars</td>\n",
       "      <td>22 avenue Raymond Poincaré</td>\n",
       "      <td>48.865983,2.275725</td>\n",
       "    </tr>\n",
       "    <tr>\n",
       "      <th>2</th>\n",
       "      <td>L'Astrance</td>\n",
       "      <td>4.5</td>\n",
       "      <td>62</td>\n",
       "      <td>48.858440</td>\n",
       "      <td>2.287340</td>\n",
       "      <td>French</td>\n",
       "      <td>4 rue Beethoven</td>\n",
       "      <td>48.865983,2.275725</td>\n",
       "    </tr>\n",
       "    <tr>\n",
       "      <th>3</th>\n",
       "      <td>Crêperie Framboise Passy-Trocadéro</td>\n",
       "      <td>4.5</td>\n",
       "      <td>64</td>\n",
       "      <td>48.858829</td>\n",
       "      <td>2.285040</td>\n",
       "      <td>Creperies, Gluten-Free</td>\n",
       "      <td>10 bd Delessert</td>\n",
       "      <td>48.865983,2.275725</td>\n",
       "    </tr>\n",
       "    <tr>\n",
       "      <th>4</th>\n",
       "      <td>Girafe</td>\n",
       "      <td>3.5</td>\n",
       "      <td>93</td>\n",
       "      <td>48.862584</td>\n",
       "      <td>2.288581</td>\n",
       "      <td>French, Seafood</td>\n",
       "      <td>1 place du Trocadéro</td>\n",
       "      <td>48.865983,2.275725</td>\n",
       "    </tr>\n",
       "  </tbody>\n",
       "</table>\n",
       "</div>"
      ],
      "text/plain": [
       "                                 name  rating  review_count   latitude  \\\n",
       "0                      La Coïncidence     4.5           509  48.868105   \n",
       "1                         Le Poincaré     4.0           142  48.865057   \n",
       "2                          L'Astrance     4.5            62  48.858440   \n",
       "3  Crêperie Framboise Passy-Trocadéro     4.5            64  48.858829   \n",
       "4                              Girafe     3.5            93  48.862584   \n",
       "\n",
       "   longitude                     categories                    location  \\\n",
       "0   2.284365                         French               15 rue Mesnil   \n",
       "1   2.286521  French, Brasseries, Wine Bars  22 avenue Raymond Poincaré   \n",
       "2   2.287340                         French             4 rue Beethoven   \n",
       "3   2.285040         Creperies, Gluten-Free             10 bd Delessert   \n",
       "4   2.288581                French, Seafood        1 place du Trocadéro   \n",
       "\n",
       "        city_bikes_ll  \n",
       "0  48.865983,2.275725  \n",
       "1  48.865983,2.275725  \n",
       "2  48.865983,2.275725  \n",
       "3  48.865983,2.275725  \n",
       "4  48.865983,2.275725  "
      ]
     },
     "execution_count": 89,
     "metadata": {},
     "output_type": "execute_result"
    }
   ],
   "source": [
    "yelp_paris_df.head()"
   ]
  },
  {
   "cell_type": "code",
   "execution_count": 90,
   "id": "a066cdcf-ac94-4374-ad13-317571b02572",
   "metadata": {},
   "outputs": [],
   "source": [
    "yelp_paris_df.to_csv(\"city_bikes_yelp_df.csv\", index = True)"
   ]
  },
  {
   "cell_type": "code",
   "execution_count": 73,
   "id": "a908b7c9-7486-4bfb-b78b-fcda370ad2b5",
   "metadata": {},
   "outputs": [],
   "source": [
    "#yelp_paris_df=pd.read_csv('city_bikes_yelp_df.csv')"
   ]
  },
  {
   "cell_type": "markdown",
   "id": "b7dfdd96-a850-4f8e-815e-20ce1d9a6663",
   "metadata": {},
   "source": [
    "## Top 10 POIs as per their ratings"
   ]
  },
  {
   "cell_type": "code",
   "execution_count": 91,
   "id": "c4af05a7-802d-4b9e-8b99-78bd27c6346d",
   "metadata": {},
   "outputs": [
    {
     "data": {
      "text/html": [
       "<div>\n",
       "<style scoped>\n",
       "    .dataframe tbody tr th:only-of-type {\n",
       "        vertical-align: middle;\n",
       "    }\n",
       "\n",
       "    .dataframe tbody tr th {\n",
       "        vertical-align: top;\n",
       "    }\n",
       "\n",
       "    .dataframe thead th {\n",
       "        text-align: right;\n",
       "    }\n",
       "</style>\n",
       "<table border=\"1\" class=\"dataframe\">\n",
       "  <thead>\n",
       "    <tr style=\"text-align: right;\">\n",
       "      <th></th>\n",
       "      <th>name</th>\n",
       "      <th>rating</th>\n",
       "      <th>review_count</th>\n",
       "      <th>latitude</th>\n",
       "      <th>longitude</th>\n",
       "      <th>categories</th>\n",
       "      <th>location</th>\n",
       "      <th>city_bikes_ll</th>\n",
       "    </tr>\n",
       "  </thead>\n",
       "  <tbody>\n",
       "    <tr>\n",
       "      <th>28525</th>\n",
       "      <td>La Merveille</td>\n",
       "      <td>5.0</td>\n",
       "      <td>1</td>\n",
       "      <td>48.822559</td>\n",
       "      <td>2.275750</td>\n",
       "      <td>Bakeries</td>\n",
       "      <td>4 rue de l'Abbé Grégoire</td>\n",
       "      <td>48.822036188382,2.2754641655975</td>\n",
       "    </tr>\n",
       "    <tr>\n",
       "      <th>11181</th>\n",
       "      <td>Tomy and Co</td>\n",
       "      <td>5.0</td>\n",
       "      <td>16</td>\n",
       "      <td>48.860560</td>\n",
       "      <td>2.309440</td>\n",
       "      <td>French</td>\n",
       "      <td>22 rue Surcouf</td>\n",
       "      <td>48.861273016278126,2.309453550914185</td>\n",
       "    </tr>\n",
       "    <tr>\n",
       "      <th>11389</th>\n",
       "      <td>786</td>\n",
       "      <td>5.0</td>\n",
       "      <td>1</td>\n",
       "      <td>48.815130</td>\n",
       "      <td>2.505710</td>\n",
       "      <td>Brasseries, Burgers</td>\n",
       "      <td>34 rue Jean Jaurès</td>\n",
       "      <td>48.813810628405,2.5096759200096</td>\n",
       "    </tr>\n",
       "    <tr>\n",
       "      <th>3869</th>\n",
       "      <td>El Pincho</td>\n",
       "      <td>5.0</td>\n",
       "      <td>1</td>\n",
       "      <td>48.857670</td>\n",
       "      <td>2.434244</td>\n",
       "      <td>Spanish, Cocktail Bars, Tapas Bars</td>\n",
       "      <td>43 rue de Paris</td>\n",
       "      <td>48.857421708072074,2.437578141689301</td>\n",
       "    </tr>\n",
       "    <tr>\n",
       "      <th>3894</th>\n",
       "      <td>L'Amitié</td>\n",
       "      <td>5.0</td>\n",
       "      <td>1</td>\n",
       "      <td>48.789676</td>\n",
       "      <td>2.401820</td>\n",
       "      <td>French</td>\n",
       "      <td>14 rue Camille Groult</td>\n",
       "      <td>48.790114,2.4025777</td>\n",
       "    </tr>\n",
       "    <tr>\n",
       "      <th>3895</th>\n",
       "      <td>Pizza Express</td>\n",
       "      <td>5.0</td>\n",
       "      <td>1</td>\n",
       "      <td>48.787720</td>\n",
       "      <td>2.402500</td>\n",
       "      <td>Pizza</td>\n",
       "      <td>77 ave Ernest Havet</td>\n",
       "      <td>48.790114,2.4025777</td>\n",
       "    </tr>\n",
       "    <tr>\n",
       "      <th>3897</th>\n",
       "      <td>Boraq</td>\n",
       "      <td>5.0</td>\n",
       "      <td>1</td>\n",
       "      <td>48.793420</td>\n",
       "      <td>2.395830</td>\n",
       "      <td>Japanese, Thai</td>\n",
       "      <td>118 avenue Paul Vaillant Couturier</td>\n",
       "      <td>48.790114,2.4025777</td>\n",
       "    </tr>\n",
       "    <tr>\n",
       "      <th>11235</th>\n",
       "      <td>La Escondida</td>\n",
       "      <td>5.0</td>\n",
       "      <td>3</td>\n",
       "      <td>48.833843</td>\n",
       "      <td>2.308681</td>\n",
       "      <td>Peruvian</td>\n",
       "      <td>49 rue de Vouillé</td>\n",
       "      <td>48.834097274832295,2.3087677359581</td>\n",
       "    </tr>\n",
       "    <tr>\n",
       "      <th>11204</th>\n",
       "      <td>La Forêt Noire</td>\n",
       "      <td>5.0</td>\n",
       "      <td>2</td>\n",
       "      <td>48.890234</td>\n",
       "      <td>2.354660</td>\n",
       "      <td>African</td>\n",
       "      <td>9 rue Marcadet</td>\n",
       "      <td>48.89874803977525,2.3645754531025887</td>\n",
       "    </tr>\n",
       "    <tr>\n",
       "      <th>11169</th>\n",
       "      <td>Khajuraho</td>\n",
       "      <td>5.0</td>\n",
       "      <td>22</td>\n",
       "      <td>48.861542</td>\n",
       "      <td>2.310126</td>\n",
       "      <td>Indian</td>\n",
       "      <td>14 bd de la Tour Maubourg</td>\n",
       "      <td>48.861273016278126,2.309453550914185</td>\n",
       "    </tr>\n",
       "  </tbody>\n",
       "</table>\n",
       "</div>"
      ],
      "text/plain": [
       "                 name  rating  review_count   latitude  longitude  \\\n",
       "28525    La Merveille     5.0             1  48.822559   2.275750   \n",
       "11181     Tomy and Co     5.0            16  48.860560   2.309440   \n",
       "11389             786     5.0             1  48.815130   2.505710   \n",
       "3869        El Pincho     5.0             1  48.857670   2.434244   \n",
       "3894         L'Amitié     5.0             1  48.789676   2.401820   \n",
       "3895    Pizza Express     5.0             1  48.787720   2.402500   \n",
       "3897            Boraq     5.0             1  48.793420   2.395830   \n",
       "11235    La Escondida     5.0             3  48.833843   2.308681   \n",
       "11204  La Forêt Noire     5.0             2  48.890234   2.354660   \n",
       "11169       Khajuraho     5.0            22  48.861542   2.310126   \n",
       "\n",
       "                               categories                            location  \\\n",
       "28525                            Bakeries            4 rue de l'Abbé Grégoire   \n",
       "11181                              French                      22 rue Surcouf   \n",
       "11389                 Brasseries, Burgers                  34 rue Jean Jaurès   \n",
       "3869   Spanish, Cocktail Bars, Tapas Bars                     43 rue de Paris   \n",
       "3894                               French               14 rue Camille Groult   \n",
       "3895                                Pizza                 77 ave Ernest Havet   \n",
       "3897                       Japanese, Thai  118 avenue Paul Vaillant Couturier   \n",
       "11235                            Peruvian                   49 rue de Vouillé   \n",
       "11204                             African                      9 rue Marcadet   \n",
       "11169                              Indian           14 bd de la Tour Maubourg   \n",
       "\n",
       "                              city_bikes_ll  \n",
       "28525       48.822036188382,2.2754641655975  \n",
       "11181  48.861273016278126,2.309453550914185  \n",
       "11389       48.813810628405,2.5096759200096  \n",
       "3869   48.857421708072074,2.437578141689301  \n",
       "3894                    48.790114,2.4025777  \n",
       "3895                    48.790114,2.4025777  \n",
       "3897                    48.790114,2.4025777  \n",
       "11235    48.834097274832295,2.3087677359581  \n",
       "11204  48.89874803977525,2.3645754531025887  \n",
       "11169  48.861273016278126,2.309453550914185  "
      ]
     },
     "execution_count": 91,
     "metadata": {},
     "output_type": "execute_result"
    }
   ],
   "source": [
    "yelp_paris_df.sort_values('rating',ascending=False).head(10)"
   ]
  },
  {
   "cell_type": "markdown",
   "id": "515fc77e-901a-44f6-9e25-7ab519a874ea",
   "metadata": {},
   "source": [
    "## Merging Foursquare and Yelp data on name "
   ]
  },
  {
   "cell_type": "code",
   "execution_count": 105,
   "id": "57496012-d568-4c52-9509-c1352c64a254",
   "metadata": {},
   "outputs": [],
   "source": [
    "df_yelp_foursq_merged = pd.merge(yelp_paris_df,city_bikes_foursquare_df,on='name',how='inner')"
   ]
  },
  {
   "cell_type": "code",
   "execution_count": 107,
   "id": "7559bf32-70c5-4c91-a47e-8f5065a9116c",
   "metadata": {},
   "outputs": [
    {
     "data": {
      "text/html": [
       "<div>\n",
       "<style scoped>\n",
       "    .dataframe tbody tr th:only-of-type {\n",
       "        vertical-align: middle;\n",
       "    }\n",
       "\n",
       "    .dataframe tbody tr th {\n",
       "        vertical-align: top;\n",
       "    }\n",
       "\n",
       "    .dataframe thead th {\n",
       "        text-align: right;\n",
       "    }\n",
       "</style>\n",
       "<table border=\"1\" class=\"dataframe\">\n",
       "  <thead>\n",
       "    <tr style=\"text-align: right;\">\n",
       "      <th></th>\n",
       "      <th>name</th>\n",
       "      <th>rating</th>\n",
       "      <th>review_count</th>\n",
       "      <th>latitude_x</th>\n",
       "      <th>longitude_x</th>\n",
       "      <th>categories_x</th>\n",
       "      <th>location</th>\n",
       "      <th>city_bikes_ll_x</th>\n",
       "      <th>Unnamed: 0</th>\n",
       "      <th>fsq_id</th>\n",
       "      <th>distance</th>\n",
       "      <th>latitude_y</th>\n",
       "      <th>longitude_y</th>\n",
       "      <th>categories_y</th>\n",
       "      <th>city_bikes_ll_y</th>\n",
       "    </tr>\n",
       "  </thead>\n",
       "  <tbody>\n",
       "    <tr>\n",
       "      <th>0</th>\n",
       "      <td>La Coïncidence</td>\n",
       "      <td>4.5</td>\n",
       "      <td>509</td>\n",
       "      <td>48.868105</td>\n",
       "      <td>2.284365</td>\n",
       "      <td>French</td>\n",
       "      <td>15 rue Mesnil</td>\n",
       "      <td>48.865983,2.275725</td>\n",
       "      <td>8193</td>\n",
       "      <td>4e975f0f30f8ca78ea3dda0b</td>\n",
       "      <td>206</td>\n",
       "      <td>48.868191</td>\n",
       "      <td>2.284522</td>\n",
       "      <td>Burger Joint, French Restaurant, New American ...</td>\n",
       "      <td>48.86795222470859,2.28146318346262</td>\n",
       "    </tr>\n",
       "    <tr>\n",
       "      <th>1</th>\n",
       "      <td>La Coïncidence</td>\n",
       "      <td>4.5</td>\n",
       "      <td>509</td>\n",
       "      <td>48.868105</td>\n",
       "      <td>2.284365</td>\n",
       "      <td>French</td>\n",
       "      <td>15 rue Mesnil</td>\n",
       "      <td>48.865983,2.275725</td>\n",
       "      <td>9410</td>\n",
       "      <td>4e975f0f30f8ca78ea3dda0b</td>\n",
       "      <td>250</td>\n",
       "      <td>48.868191</td>\n",
       "      <td>2.284522</td>\n",
       "      <td>Burger Joint, French Restaurant, New American ...</td>\n",
       "      <td>48.870306124369975,2.285074541420228</td>\n",
       "    </tr>\n",
       "    <tr>\n",
       "      <th>2</th>\n",
       "      <td>La Coïncidence</td>\n",
       "      <td>4.5</td>\n",
       "      <td>509</td>\n",
       "      <td>48.868105</td>\n",
       "      <td>2.284365</td>\n",
       "      <td>French</td>\n",
       "      <td>15 rue Mesnil</td>\n",
       "      <td>48.865983,2.275725</td>\n",
       "      <td>9480</td>\n",
       "      <td>4e975f0f30f8ca78ea3dda0b</td>\n",
       "      <td>377</td>\n",
       "      <td>48.868191</td>\n",
       "      <td>2.284522</td>\n",
       "      <td>Burger Joint, French Restaurant, New American ...</td>\n",
       "      <td>48.870809428669546,2.281149007691853</td>\n",
       "    </tr>\n",
       "    <tr>\n",
       "      <th>3</th>\n",
       "      <td>Le Poincaré</td>\n",
       "      <td>4.0</td>\n",
       "      <td>142</td>\n",
       "      <td>48.865057</td>\n",
       "      <td>2.286521</td>\n",
       "      <td>French, Brasseries, Wine Bars</td>\n",
       "      <td>22 avenue Raymond Poincaré</td>\n",
       "      <td>48.865983,2.275725</td>\n",
       "      <td>7035</td>\n",
       "      <td>4c9524b003413704540379ef</td>\n",
       "      <td>189</td>\n",
       "      <td>48.865170</td>\n",
       "      <td>2.286653</td>\n",
       "      <td>Pizzeria, Fast Food Restaurant, Brasserie</td>\n",
       "      <td>48.863354122371,2.2864209115505</td>\n",
       "    </tr>\n",
       "    <tr>\n",
       "      <th>4</th>\n",
       "      <td>Sgabetti</td>\n",
       "      <td>4.5</td>\n",
       "      <td>39</td>\n",
       "      <td>48.865831</td>\n",
       "      <td>2.283666</td>\n",
       "      <td>Italian</td>\n",
       "      <td>15 rue Sablons</td>\n",
       "      <td>48.865983,2.275725</td>\n",
       "      <td>2404</td>\n",
       "      <td>4bf82e724a67c92860f224cf</td>\n",
       "      <td>247</td>\n",
       "      <td>48.865756</td>\n",
       "      <td>2.283651</td>\n",
       "      <td>Brasserie, Italian Restaurant</td>\n",
       "      <td>48.863875,2.28189</td>\n",
       "    </tr>\n",
       "    <tr>\n",
       "      <th>...</th>\n",
       "      <td>...</td>\n",
       "      <td>...</td>\n",
       "      <td>...</td>\n",
       "      <td>...</td>\n",
       "      <td>...</td>\n",
       "      <td>...</td>\n",
       "      <td>...</td>\n",
       "      <td>...</td>\n",
       "      <td>...</td>\n",
       "      <td>...</td>\n",
       "      <td>...</td>\n",
       "      <td>...</td>\n",
       "      <td>...</td>\n",
       "      <td>...</td>\n",
       "      <td>...</td>\n",
       "    </tr>\n",
       "    <tr>\n",
       "      <th>8217</th>\n",
       "      <td>Le Café Chineur</td>\n",
       "      <td>3.0</td>\n",
       "      <td>14</td>\n",
       "      <td>48.831940</td>\n",
       "      <td>2.314010</td>\n",
       "      <td>French, Bars</td>\n",
       "      <td>170 rue Alésia</td>\n",
       "      <td>48.832200060759,2.3139070151575</td>\n",
       "      <td>11219</td>\n",
       "      <td>4bb19f36f964a520659c3ce3</td>\n",
       "      <td>561</td>\n",
       "      <td>48.831944</td>\n",
       "      <td>2.314111</td>\n",
       "      <td>Brasserie</td>\n",
       "      <td>48.83287705011431,2.306762784719467</td>\n",
       "    </tr>\n",
       "    <tr>\n",
       "      <th>8218</th>\n",
       "      <td>Le Café Chineur</td>\n",
       "      <td>3.0</td>\n",
       "      <td>14</td>\n",
       "      <td>48.831940</td>\n",
       "      <td>2.314010</td>\n",
       "      <td>French, Bars</td>\n",
       "      <td>170 rue Alésia</td>\n",
       "      <td>48.832200060759,2.3139070151575</td>\n",
       "      <td>11371</td>\n",
       "      <td>4bb19f36f964a520659c3ce3</td>\n",
       "      <td>353</td>\n",
       "      <td>48.831944</td>\n",
       "      <td>2.314111</td>\n",
       "      <td>Brasserie</td>\n",
       "      <td>48.83088717455243,2.318882101207347</td>\n",
       "    </tr>\n",
       "    <tr>\n",
       "      <th>8219</th>\n",
       "      <td>Le Café Chineur</td>\n",
       "      <td>3.0</td>\n",
       "      <td>14</td>\n",
       "      <td>48.831940</td>\n",
       "      <td>2.314010</td>\n",
       "      <td>French, Bars</td>\n",
       "      <td>170 rue Alésia</td>\n",
       "      <td>48.832200060759,2.3139070151575</td>\n",
       "      <td>12246</td>\n",
       "      <td>4bb19f36f964a520659c3ce3</td>\n",
       "      <td>385</td>\n",
       "      <td>48.831944</td>\n",
       "      <td>2.314111</td>\n",
       "      <td>Brasserie</td>\n",
       "      <td>48.82953336292279,2.318179272115231</td>\n",
       "    </tr>\n",
       "    <tr>\n",
       "      <th>8220</th>\n",
       "      <td>Le Café Chineur</td>\n",
       "      <td>3.0</td>\n",
       "      <td>14</td>\n",
       "      <td>48.831940</td>\n",
       "      <td>2.314010</td>\n",
       "      <td>French, Bars</td>\n",
       "      <td>170 rue Alésia</td>\n",
       "      <td>48.832200060759,2.3139070151575</td>\n",
       "      <td>12562</td>\n",
       "      <td>4bb19f36f964a520659c3ce3</td>\n",
       "      <td>224</td>\n",
       "      <td>48.831944</td>\n",
       "      <td>2.314111</td>\n",
       "      <td>Brasserie</td>\n",
       "      <td>48.83059564231877,2.3119183257222176</td>\n",
       "    </tr>\n",
       "    <tr>\n",
       "      <th>8221</th>\n",
       "      <td>Le Café Chineur</td>\n",
       "      <td>3.0</td>\n",
       "      <td>14</td>\n",
       "      <td>48.831940</td>\n",
       "      <td>2.314010</td>\n",
       "      <td>French, Bars</td>\n",
       "      <td>170 rue Alésia</td>\n",
       "      <td>48.832200060759,2.3139070151575</td>\n",
       "      <td>14184</td>\n",
       "      <td>4bb19f36f964a520659c3ce3</td>\n",
       "      <td>45</td>\n",
       "      <td>48.831944</td>\n",
       "      <td>2.314111</td>\n",
       "      <td>Brasserie</td>\n",
       "      <td>48.832200060759,2.3139070151575</td>\n",
       "    </tr>\n",
       "  </tbody>\n",
       "</table>\n",
       "<p>8222 rows × 15 columns</p>\n",
       "</div>"
      ],
      "text/plain": [
       "                 name  rating  review_count  latitude_x  longitude_x  \\\n",
       "0      La Coïncidence     4.5           509   48.868105     2.284365   \n",
       "1      La Coïncidence     4.5           509   48.868105     2.284365   \n",
       "2      La Coïncidence     4.5           509   48.868105     2.284365   \n",
       "3         Le Poincaré     4.0           142   48.865057     2.286521   \n",
       "4            Sgabetti     4.5            39   48.865831     2.283666   \n",
       "...               ...     ...           ...         ...          ...   \n",
       "8217  Le Café Chineur     3.0            14   48.831940     2.314010   \n",
       "8218  Le Café Chineur     3.0            14   48.831940     2.314010   \n",
       "8219  Le Café Chineur     3.0            14   48.831940     2.314010   \n",
       "8220  Le Café Chineur     3.0            14   48.831940     2.314010   \n",
       "8221  Le Café Chineur     3.0            14   48.831940     2.314010   \n",
       "\n",
       "                       categories_x                    location  \\\n",
       "0                            French               15 rue Mesnil   \n",
       "1                            French               15 rue Mesnil   \n",
       "2                            French               15 rue Mesnil   \n",
       "3     French, Brasseries, Wine Bars  22 avenue Raymond Poincaré   \n",
       "4                           Italian              15 rue Sablons   \n",
       "...                             ...                         ...   \n",
       "8217                   French, Bars              170 rue Alésia   \n",
       "8218                   French, Bars              170 rue Alésia   \n",
       "8219                   French, Bars              170 rue Alésia   \n",
       "8220                   French, Bars              170 rue Alésia   \n",
       "8221                   French, Bars              170 rue Alésia   \n",
       "\n",
       "                      city_bikes_ll_x  Unnamed: 0                    fsq_id  \\\n",
       "0                  48.865983,2.275725        8193  4e975f0f30f8ca78ea3dda0b   \n",
       "1                  48.865983,2.275725        9410  4e975f0f30f8ca78ea3dda0b   \n",
       "2                  48.865983,2.275725        9480  4e975f0f30f8ca78ea3dda0b   \n",
       "3                  48.865983,2.275725        7035  4c9524b003413704540379ef   \n",
       "4                  48.865983,2.275725        2404  4bf82e724a67c92860f224cf   \n",
       "...                               ...         ...                       ...   \n",
       "8217  48.832200060759,2.3139070151575       11219  4bb19f36f964a520659c3ce3   \n",
       "8218  48.832200060759,2.3139070151575       11371  4bb19f36f964a520659c3ce3   \n",
       "8219  48.832200060759,2.3139070151575       12246  4bb19f36f964a520659c3ce3   \n",
       "8220  48.832200060759,2.3139070151575       12562  4bb19f36f964a520659c3ce3   \n",
       "8221  48.832200060759,2.3139070151575       14184  4bb19f36f964a520659c3ce3   \n",
       "\n",
       "      distance  latitude_y  longitude_y  \\\n",
       "0          206   48.868191     2.284522   \n",
       "1          250   48.868191     2.284522   \n",
       "2          377   48.868191     2.284522   \n",
       "3          189   48.865170     2.286653   \n",
       "4          247   48.865756     2.283651   \n",
       "...        ...         ...          ...   \n",
       "8217       561   48.831944     2.314111   \n",
       "8218       353   48.831944     2.314111   \n",
       "8219       385   48.831944     2.314111   \n",
       "8220       224   48.831944     2.314111   \n",
       "8221        45   48.831944     2.314111   \n",
       "\n",
       "                                           categories_y  \\\n",
       "0     Burger Joint, French Restaurant, New American ...   \n",
       "1     Burger Joint, French Restaurant, New American ...   \n",
       "2     Burger Joint, French Restaurant, New American ...   \n",
       "3             Pizzeria, Fast Food Restaurant, Brasserie   \n",
       "4                         Brasserie, Italian Restaurant   \n",
       "...                                                 ...   \n",
       "8217                                          Brasserie   \n",
       "8218                                          Brasserie   \n",
       "8219                                          Brasserie   \n",
       "8220                                          Brasserie   \n",
       "8221                                          Brasserie   \n",
       "\n",
       "                           city_bikes_ll_y  \n",
       "0       48.86795222470859,2.28146318346262  \n",
       "1     48.870306124369975,2.285074541420228  \n",
       "2     48.870809428669546,2.281149007691853  \n",
       "3          48.863354122371,2.2864209115505  \n",
       "4                        48.863875,2.28189  \n",
       "...                                    ...  \n",
       "8217   48.83287705011431,2.306762784719467  \n",
       "8218   48.83088717455243,2.318882101207347  \n",
       "8219   48.82953336292279,2.318179272115231  \n",
       "8220  48.83059564231877,2.3119183257222176  \n",
       "8221       48.832200060759,2.3139070151575  \n",
       "\n",
       "[8222 rows x 15 columns]"
      ]
     },
     "execution_count": 107,
     "metadata": {},
     "output_type": "execute_result"
    }
   ],
   "source": [
    "df_yelp_foursq_merged"
   ]
  },
  {
   "cell_type": "code",
   "execution_count": 108,
   "id": "0690266b-3b63-40df-b6ae-bfa8217967d2",
   "metadata": {},
   "outputs": [
    {
     "data": {
      "text/plain": [
       "(8222, 15)"
      ]
     },
     "execution_count": 108,
     "metadata": {},
     "output_type": "execute_result"
    }
   ],
   "source": [
    "df_yelp_foursq_merged.shape"
   ]
  },
  {
   "cell_type": "code",
   "execution_count": 109,
   "id": "9b0ed9d4-a8df-4937-a00b-f8c148648bce",
   "metadata": {},
   "outputs": [],
   "source": [
    "df_yelp_foursq_merged = df_yelp_foursq_merged.drop_duplicates(subset=['name'],keep='first')"
   ]
  },
  {
   "cell_type": "code",
   "execution_count": 110,
   "id": "df94d74d-6ca1-4dbd-9339-9d045abc9281",
   "metadata": {},
   "outputs": [
    {
     "data": {
      "text/plain": [
       "(1675, 15)"
      ]
     },
     "execution_count": 110,
     "metadata": {},
     "output_type": "execute_result"
    }
   ],
   "source": [
    "df_yelp_foursq_merged.shape"
   ]
  },
  {
   "cell_type": "code",
   "execution_count": 111,
   "id": "429cddbc-7356-4a17-9b39-57fcadca78cc",
   "metadata": {},
   "outputs": [],
   "source": [
    "df_yelp_foursq_merged = df_yelp_foursq_merged.rename(columns={'Lat-Long' : 'city_bikes_ll'})"
   ]
  },
  {
   "cell_type": "code",
   "execution_count": 112,
   "id": "84d63e31-93df-4170-822a-52153f803d13",
   "metadata": {},
   "outputs": [],
   "source": [
    "df_yelp_foursq_merged.to_csv('df_yelp_foursq_merged.csv')"
   ]
  },
  {
   "cell_type": "markdown",
   "id": "481f7a8f-81e1-4905-864d-17d163858fd5",
   "metadata": {},
   "source": [
    "# Comparing Results\n"
   ]
  },
  {
   "cell_type": "markdown",
   "id": "d31ce6f0-5941-4da0-b193-c0bbff7dbf59",
   "metadata": {},
   "source": [
    "### Which API provided you with more complete data? Provide an explanation.\n",
    "\n",
    "  The foursquare API did not provide us the rating or review data but the yelp api provide us with this data. So the Yelp API provided us with better data for comparison of the POIs"
   ]
  }
 ],
 "metadata": {
  "kernelspec": {
   "display_name": "Python 3 (ipykernel)",
   "language": "python",
   "name": "python3"
  },
  "language_info": {
   "codemirror_mode": {
    "name": "ipython",
    "version": 3
   },
   "file_extension": ".py",
   "mimetype": "text/x-python",
   "name": "python",
   "nbconvert_exporter": "python",
   "pygments_lexer": "ipython3",
   "version": "3.9.13"
  }
 },
 "nbformat": 4,
 "nbformat_minor": 5
}
